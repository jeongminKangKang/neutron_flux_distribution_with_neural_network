{
 "cells": [
  {
   "cell_type": "code",
   "execution_count": 3,
   "id": "0745c1d7",
   "metadata": {
    "scrolled": false
   },
   "outputs": [
    {
     "name": "stdout",
     "output_type": "stream",
     "text": [
      "epoch:0 loss:21.993852615356445\n",
      "epoch:1000 loss:7.015393257141113\n",
      "epoch:2000 loss:3.9152400493621826\n",
      "epoch:3000 loss:0.4022572934627533\n",
      "epoch:4000 loss:3.41428804397583\n",
      "epoch:5000 loss:2.7952218055725098\n",
      "epoch:6000 loss:0.0272368136793375\n",
      "epoch:7000 loss:9.973981650546193e-05\n",
      "epoch:8000 loss:0.00551589485257864\n",
      "epoch:9000 loss:4.854591750813597e-08\n",
      "epoch:10000 loss:1.073643129956281e-08\n",
      "epoch:11000 loss:1.1712597824953264e-06\n",
      "epoch:12000 loss:5.665755153927421e-08\n",
      "epoch:13000 loss:6.083925541133794e-08\n",
      "epoch:14000 loss:2.8160229356699595e-11\n",
      "epoch:15000 loss:8.857625743985409e-11\n",
      "epoch:16000 loss:2.3922808622955927e-08\n",
      "epoch:17000 loss:1.703870111668948e-07\n",
      "epoch:18000 loss:6.9214989295574014e-09\n",
      "epoch:19000 loss:3.144740276184166e-06\n"
     ]
    }
   ],
   "source": [
    "import numpy as np\n",
    "import torch\n",
    "import torch.optim as optim\n",
    "import torch.nn as nn\n",
    "from torch.utils.data import TensorDataset, DataLoader\n",
    "from torch.optim.adam import Adam\n",
    "\n",
    "f = open(\"flux.txt\", \"r\")\n",
    "y = []\n",
    "while True:\n",
    "    line = f.readline().strip()\n",
    "    if not line: break\n",
    "    y.append(float(line))\n",
    "f.close()\n",
    "\n",
    "k=0\n",
    "cur=0\n",
    "new_y=[]\n",
    "for i in range(4):\n",
    "    y1=[]\n",
    "    for j in range(10):\n",
    "        y1.append(y[cur])\n",
    "        cur+=1\n",
    "    new_y.append(y1)\n",
    "y=new_y\n",
    "x=[[1.4,0.01,0.005],[1.1,0.05,0.0],[1.4,0.01,0.009],[1.23,0.0006,0.0]]\n",
    "x_train_tensor = torch.as_tensor(x).float()\n",
    "y_train_tensor = torch.as_tensor(y).float()\n",
    "x_val_tensor = torch.as_tensor(x).float()\n",
    "y_val_tensor = torch.as_tensor(y).float()\n",
    "\n",
    "train_data = TensorDataset(x_train_tensor, y_train_tensor)\n",
    "val_data = TensorDataset(x_val_tensor, y_val_tensor)\n",
    "\n",
    "train_loader = DataLoader(dataset=train_data, batch_size=2, shuffle=True)\n",
    "val_loader = DataLoader(dataset=val_data, batch_size=2)\n",
    "\n",
    "model = nn.Sequential(\n",
    "    nn.Linear(3, 16),\n",
    "    nn.LeakyReLU(),\n",
    "    nn.Linear(16, 32),\n",
    "    nn.LeakyReLU(),\n",
    "    nn.Linear(32, 16),\n",
    "    nn.LeakyReLU(),\n",
    "    nn.Linear(16, 10)\n",
    ")\n",
    "\n",
    "lr = 1e-3\n",
    "optim = Adam(model.parameters(), lr=lr)\n",
    "\n",
    "loss_count=[]\n",
    "for epoch in range(20000):\n",
    "    for data, label in train_loader:\n",
    "        optim.zero_grad()\n",
    "        preds = model(data)\n",
    "        loss = nn.MSELoss(reduction='mean')(preds, label) \n",
    "        loss.backward() \n",
    "        optim.step() \n",
    "    if epoch%1000 == 0:\n",
    "        print(f\"epoch:{epoch} loss:{loss.item()}\")\n",
    "        loss_count.append(loss.item())"
   ]
  },
  {
   "cell_type": "code",
   "execution_count": 4,
   "id": "ffd3fcc1",
   "metadata": {},
   "outputs": [
    {
     "name": "stdout",
     "output_type": "stream",
     "text": [
      "[21.993852615356445, 7.015393257141113, 3.9152400493621826, 0.4022572934627533, 3.41428804397583, 2.7952218055725098, 0.0272368136793375, 9.973981650546193e-05, 0.00551589485257864, 4.854591750813597e-08, 1.073643129956281e-08, 1.1712597824953264e-06, 5.665755153927421e-08, 6.083925541133794e-08, 2.8160229356699595e-11, 8.857625743985409e-11, 2.3922808622955927e-08, 1.703870111668948e-07, 6.9214989295574014e-09, 3.144740276184166e-06]\n"
     ]
    }
   ],
   "source": [
    "x=[[1.4,0.01,0.005],[1.1,0.05,0.0]]\n",
    "data=torch.as_tensor(x).float()\n",
    "output = model(data)\n",
    "x2=[[1.4,0.01,0.009],[1.23,0.0006,0.0]]\n",
    "data2=torch.as_tensor(x2).float()\n",
    "output2 = model(data2)\n",
    "\n",
    "a1=output.tolist()\n",
    "a2=output2.tolist()\n",
    "\n",
    "flux=[]\n",
    "\n",
    "for i in a1:\n",
    "    for j in range(len(i)):\n",
    "        flux.append(i[j])\n",
    "\n",
    "for i in a2:\n",
    "    for j in range(len(i)):\n",
    "        flux.append(i[j])\n",
    "        \n",
    "print(loss_count)"
   ]
  },
  {
   "cell_type": "code",
   "execution_count": null,
   "id": "0fbbff89",
   "metadata": {},
   "outputs": [],
   "source": [
    "from matplotlib import pyplot as plt\n",
    "import numpy as np\n",
    "\n",
    "x = np.arange(len(flux))\n",
    "y = flux\n",
    "plt.plot(x,y)\n",
    "plt.show()"
   ]
  }
 ],
 "metadata": {
  "kernelspec": {
   "display_name": "Python 3 (ipykernel)",
   "language": "python",
   "name": "python3"
  },
  "language_info": {
   "codemirror_mode": {
    "name": "ipython",
    "version": 3
   },
   "file_extension": ".py",
   "mimetype": "text/x-python",
   "name": "python",
   "nbconvert_exporter": "python",
   "pygments_lexer": "ipython3",
   "version": "3.11.5"
  }
 },
 "nbformat": 4,
 "nbformat_minor": 5
}
